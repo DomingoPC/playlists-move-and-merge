{
 "cells": [
  {
   "cell_type": "code",
   "execution_count": 20,
   "id": "d2b290c3",
   "metadata": {},
   "outputs": [],
   "source": [
    "import dotenv\n",
    "from pathlib import Path\n",
    "import pandas as pd\n",
    "from datetime import datetime\n",
    "import spotipy\n",
    "from spotipy.oauth2 import SpotifyClientCredentials"
   ]
  },
  {
   "cell_type": "code",
   "execution_count": 21,
   "id": "38c367ac",
   "metadata": {},
   "outputs": [],
   "source": [
    "envPath = \".env\"\n",
    "\n",
    "Path(envPath).exists()\n",
    "if not dotenv.load_dotenv(envPath):\n",
    "    raise RuntimeError(f\"Environment Variables not found in {envPath}\")"
   ]
  },
  {
   "cell_type": "code",
   "execution_count": 22,
   "id": "8c215476",
   "metadata": {},
   "outputs": [],
   "source": [
    "# Conectarse con permisos de lectura\n",
    "auth_manager = SpotifyClientCredentials()\n",
    "sp = spotipy.Spotify(auth_manager = auth_manager)"
   ]
  },
  {
   "cell_type": "code",
   "execution_count": 23,
   "id": "2abab3b9",
   "metadata": {},
   "outputs": [
    {
     "name": "stdout",
     "output_type": "stream",
     "text": [
      "   1 spotify:playlist:0m5m7XBftn0kbR8nJTy81z Bandas Sonoras\n",
      "   2 spotify:playlist:1tkHhAAq6yvcwTtxEJlw8E Gorillaz\n",
      "   3 spotify:playlist:7BSqrCtujKvQh9KPKk0Gqc Canciones chulindangas que escuchaba hace unos años\n",
      "   4 spotify:playlist:03fpAdWRT8FuAXpJ4Zgmqr Pa la dusha (cantables)\n",
      "   5 spotify:playlist:7tWw42qiQ5HONQFGXxx5o5 Chilling this much feels illegal\n",
      "   6 spotify:playlist:3sFQurSTJr6Ow1zSuIsEOP Watch later\n",
      "   7 spotify:playlist:3MTrGsLcMu55IroZRVrBwn Pa la dusha\n",
      "   8 spotify:playlist:6JZjlU7AQUOfRx4flxhK71 Coche cochecito\n"
     ]
    }
   ],
   "source": [
    "# playlists = sp.user_playlists(user='spotify')\n",
    "playlists = sp.user_playlists(user='domnes42')\n",
    "while playlists:\n",
    "    for i, playlist in enumerate(playlists['items']):\n",
    "        print(f\"{i + 1 + playlists['offset']:4d} {playlist['uri']} {playlist['name']}\")\n",
    "    if playlists['next']:\n",
    "        playlists = sp.next(playlists)\n",
    "    else:\n",
    "        playlists = None"
   ]
  },
  {
   "cell_type": "code",
   "execution_count": 24,
   "id": "ebb6109c",
   "metadata": {},
   "outputs": [],
   "source": [
    "def get_playlist_tracks(sp: spotipy.Spotify, playlist_url: str) -> pd.DataFrame:\n",
    "    \"\"\"Extract tracks from a url (only read permissions needed)\"\"\"\n",
    "    playlist_name = sp.playlist(playlist_id = playlist_url, fields = \"name\")[\"name\"]\n",
    "\n",
    "    # Create a list accounting for the offset\n",
    "    rows, offset = [], 0\n",
    "    while True:\n",
    "            \n",
    "        raw_tracks  =   sp.playlist_tracks(\n",
    "            playlist_id =   playlist_url,\n",
    "            limit       =   100,\n",
    "            offset      =   offset,\n",
    "            fields      =   \"items(added_at,track(id,name,artists(name),album(name),duration_ms,external_ids(isrc))),next\"\n",
    "        )\n",
    "\n",
    "        for row in raw_tracks[\"items\"]:\n",
    "            date = str(row[\"added_at\"])\n",
    "            info = row[\"track\"]\n",
    "            track_info = {\n",
    "                \"origin\":           \"spotify\",\n",
    "                \"playlist_name\":    playlist_name,\n",
    "                \"playlist_url\":     playlist_url,\n",
    "                \"track_name\":       info[\"name\"],\n",
    "                \"track_id\":         info[\"id\"],\n",
    "                \"artist\":           \", \".join([artist[\"name\"] for artist in info[\"artists\"]]),\n",
    "                \"album\":            info[\"album\"][\"name\"],\n",
    "                \"duration_ms\":      info[\"duration_ms\"],\n",
    "                \"added_at\":         date\n",
    "            }\n",
    "\n",
    "            rows.append(track_info)\n",
    "        \n",
    "        if not raw_tracks[\"next\"]: break # exit if there is no more tracks to add\n",
    "        offset += 100\n",
    "        \n",
    "    return pd.DataFrame(rows)"
   ]
  },
  {
   "cell_type": "code",
   "execution_count": 25,
   "id": "b34c1027",
   "metadata": {},
   "outputs": [
    {
     "name": "stderr",
     "output_type": "stream",
     "text": [
      "HTTP Error for GET to https://api.spotify.com/v1/me/ with Params: {} returned 401 due to Valid user authentication required\n"
     ]
    },
    {
     "ename": "SpotifyException",
     "evalue": "http status: 401, code: -1 - https://api.spotify.com/v1/me/:\n Valid user authentication required, reason: None",
     "output_type": "error",
     "traceback": [
      "\u001b[31m---------------------------------------------------------------------------\u001b[39m",
      "\u001b[31mHTTPError\u001b[39m                                 Traceback (most recent call last)",
      "\u001b[36mFile \u001b[39m\u001b[32mc:\\Users\\domin\\anaconda3\\envs\\playlists\\Lib\\site-packages\\spotipy\\client.py:274\u001b[39m, in \u001b[36mSpotify._internal_call\u001b[39m\u001b[34m(self, method, url, payload, params)\u001b[39m\n\u001b[32m    269\u001b[39m response = \u001b[38;5;28mself\u001b[39m._session.request(\n\u001b[32m    270\u001b[39m     method, url, headers=headers, proxies=\u001b[38;5;28mself\u001b[39m.proxies,\n\u001b[32m    271\u001b[39m     timeout=\u001b[38;5;28mself\u001b[39m.requests_timeout, **args\n\u001b[32m    272\u001b[39m )\n\u001b[32m--> \u001b[39m\u001b[32m274\u001b[39m response.raise_for_status()\n\u001b[32m    275\u001b[39m results = response.json()\n",
      "\u001b[36mFile \u001b[39m\u001b[32mc:\\Users\\domin\\anaconda3\\envs\\playlists\\Lib\\site-packages\\requests\\models.py:1026\u001b[39m, in \u001b[36mResponse.raise_for_status\u001b[39m\u001b[34m(self)\u001b[39m\n\u001b[32m   1025\u001b[39m \u001b[38;5;28;01mif\u001b[39;00m http_error_msg:\n\u001b[32m-> \u001b[39m\u001b[32m1026\u001b[39m     \u001b[38;5;28;01mraise\u001b[39;00m HTTPError(http_error_msg, response=\u001b[38;5;28mself\u001b[39m)\n",
      "\u001b[31mHTTPError\u001b[39m: 401 Client Error: Unauthorized for url: https://api.spotify.com/v1/me/",
      "\nDuring handling of the above exception, another exception occurred:\n",
      "\u001b[31mSpotifyException\u001b[39m                          Traceback (most recent call last)",
      "\u001b[36mCell\u001b[39m\u001b[36m \u001b[39m\u001b[32mIn[25]\u001b[39m\u001b[32m, line 3\u001b[39m\n\u001b[32m      1\u001b[39m tracks = get_playlist_tracks(sp, \u001b[33mr\u001b[39m\u001b[33m\"\u001b[39m\u001b[33mhttps://open.spotify.com/playlist/0mSjZmnhxJLUp7wzHTtibc\u001b[39m\u001b[33m\"\u001b[39m)\n\u001b[32m      2\u001b[39m today = datetime.now().strftime(\u001b[33m\"\u001b[39m\u001b[33m%\u001b[39m\u001b[33mY-\u001b[39m\u001b[33m%\u001b[39m\u001b[33mm-\u001b[39m\u001b[38;5;132;01m%d\u001b[39;00m\u001b[33m_\u001b[39m\u001b[33m%\u001b[39m\u001b[33mH\u001b[39m\u001b[33m%\u001b[39m\u001b[33mM\u001b[39m\u001b[33m%\u001b[39m\u001b[33mS\u001b[39m\u001b[33m\"\u001b[39m)\n\u001b[32m----> \u001b[39m\u001b[32m3\u001b[39m user = sp.current_user()[\u001b[33m\"\u001b[39m\u001b[33mid\u001b[39m\u001b[33m\"\u001b[39m]\n\u001b[32m      5\u001b[39m output_dir = Path(\u001b[33m\"\u001b[39m\u001b[33mexports\u001b[39m\u001b[33m\"\u001b[39m)\n\u001b[32m      6\u001b[39m output_dir.mkdir(parents = \u001b[38;5;28;01mTrue\u001b[39;00m, exist_ok = \u001b[38;5;28;01mTrue\u001b[39;00m)\n",
      "\u001b[36mFile \u001b[39m\u001b[32mc:\\Users\\domin\\anaconda3\\envs\\playlists\\Lib\\site-packages\\spotipy\\client.py:1260\u001b[39m, in \u001b[36mSpotify.current_user\u001b[39m\u001b[34m(self)\u001b[39m\n\u001b[32m   1256\u001b[39m \u001b[38;5;28;01mdef\u001b[39;00m\u001b[38;5;250m \u001b[39m\u001b[34mcurrent_user\u001b[39m(\u001b[38;5;28mself\u001b[39m):\n\u001b[32m   1257\u001b[39m \u001b[38;5;250m    \u001b[39m\u001b[33;03m\"\"\" Get detailed profile information about the current user.\u001b[39;00m\n\u001b[32m   1258\u001b[39m \u001b[33;03m        An alias for the 'me' method.\u001b[39;00m\n\u001b[32m   1259\u001b[39m \u001b[33;03m    \"\"\"\u001b[39;00m\n\u001b[32m-> \u001b[39m\u001b[32m1260\u001b[39m     \u001b[38;5;28;01mreturn\u001b[39;00m \u001b[38;5;28mself\u001b[39m.me()\n",
      "\u001b[36mFile \u001b[39m\u001b[32mc:\\Users\\domin\\anaconda3\\envs\\playlists\\Lib\\site-packages\\spotipy\\client.py:1254\u001b[39m, in \u001b[36mSpotify.me\u001b[39m\u001b[34m(self)\u001b[39m\n\u001b[32m   1250\u001b[39m \u001b[38;5;28;01mdef\u001b[39;00m\u001b[38;5;250m \u001b[39m\u001b[34mme\u001b[39m(\u001b[38;5;28mself\u001b[39m):\n\u001b[32m   1251\u001b[39m \u001b[38;5;250m    \u001b[39m\u001b[33;03m\"\"\" Get detailed profile information about the current user.\u001b[39;00m\n\u001b[32m   1252\u001b[39m \u001b[33;03m        An alias for the 'current_user' method.\u001b[39;00m\n\u001b[32m   1253\u001b[39m \u001b[33;03m    \"\"\"\u001b[39;00m\n\u001b[32m-> \u001b[39m\u001b[32m1254\u001b[39m     \u001b[38;5;28;01mreturn\u001b[39;00m \u001b[38;5;28mself\u001b[39m._get(\u001b[33m\"\u001b[39m\u001b[33mme/\u001b[39m\u001b[33m\"\u001b[39m)\n",
      "\u001b[36mFile \u001b[39m\u001b[32mc:\\Users\\domin\\anaconda3\\envs\\playlists\\Lib\\site-packages\\spotipy\\client.py:324\u001b[39m, in \u001b[36mSpotify._get\u001b[39m\u001b[34m(self, url, args, payload, **kwargs)\u001b[39m\n\u001b[32m    321\u001b[39m \u001b[38;5;28;01mif\u001b[39;00m args:\n\u001b[32m    322\u001b[39m     kwargs.update(args)\n\u001b[32m--> \u001b[39m\u001b[32m324\u001b[39m \u001b[38;5;28;01mreturn\u001b[39;00m \u001b[38;5;28mself\u001b[39m._internal_call(\u001b[33m\"\u001b[39m\u001b[33mGET\u001b[39m\u001b[33m\"\u001b[39m, url, payload, kwargs)\n",
      "\u001b[36mFile \u001b[39m\u001b[32mc:\\Users\\domin\\anaconda3\\envs\\playlists\\Lib\\site-packages\\spotipy\\client.py:294\u001b[39m, in \u001b[36mSpotify._internal_call\u001b[39m\u001b[34m(self, method, url, payload, params)\u001b[39m\n\u001b[32m    289\u001b[39m         reason = \u001b[38;5;28;01mNone\u001b[39;00m\n\u001b[32m    291\u001b[39m     logger.error(\u001b[33mf\u001b[39m\u001b[33m\"\u001b[39m\u001b[33mHTTP Error for \u001b[39m\u001b[38;5;132;01m{\u001b[39;00mmethod\u001b[38;5;132;01m}\u001b[39;00m\u001b[33m to \u001b[39m\u001b[38;5;132;01m{\u001b[39;00murl\u001b[38;5;132;01m}\u001b[39;00m\u001b[33m with Params: \u001b[39m\u001b[33m\"\u001b[39m\n\u001b[32m    292\u001b[39m                  \u001b[33mf\u001b[39m\u001b[33m\"\u001b[39m\u001b[38;5;132;01m{\u001b[39;00margs.get(\u001b[33m'\u001b[39m\u001b[33mparams\u001b[39m\u001b[33m'\u001b[39m)\u001b[38;5;132;01m}\u001b[39;00m\u001b[33m returned \u001b[39m\u001b[38;5;132;01m{\u001b[39;00mresponse.status_code\u001b[38;5;132;01m}\u001b[39;00m\u001b[33m due to \u001b[39m\u001b[38;5;132;01m{\u001b[39;00mmsg\u001b[38;5;132;01m}\u001b[39;00m\u001b[33m\"\u001b[39m)\n\u001b[32m--> \u001b[39m\u001b[32m294\u001b[39m     \u001b[38;5;28;01mraise\u001b[39;00m SpotifyException(\n\u001b[32m    295\u001b[39m         response.status_code,\n\u001b[32m    296\u001b[39m         -\u001b[32m1\u001b[39m,\n\u001b[32m    297\u001b[39m         \u001b[33mf\u001b[39m\u001b[33m\"\u001b[39m\u001b[38;5;132;01m{\u001b[39;00mresponse.url\u001b[38;5;132;01m}\u001b[39;00m\u001b[33m:\u001b[39m\u001b[38;5;130;01m\\n\u001b[39;00m\u001b[33m \u001b[39m\u001b[38;5;132;01m{\u001b[39;00mmsg\u001b[38;5;132;01m}\u001b[39;00m\u001b[33m\"\u001b[39m,\n\u001b[32m    298\u001b[39m         reason=reason,\n\u001b[32m    299\u001b[39m         headers=response.headers,\n\u001b[32m    300\u001b[39m     )\n\u001b[32m    301\u001b[39m \u001b[38;5;28;01mexcept\u001b[39;00m requests.exceptions.RetryError \u001b[38;5;28;01mas\u001b[39;00m retry_error:\n\u001b[32m    302\u001b[39m     request = retry_error.request\n",
      "\u001b[31mSpotifyException\u001b[39m: http status: 401, code: -1 - https://api.spotify.com/v1/me/:\n Valid user authentication required, reason: None"
     ]
    }
   ],
   "source": [
    "tracks = get_playlist_tracks(sp, r\"https://open.spotify.com/playlist/0mSjZmnhxJLUp7wzHTtibc\")\n",
    "today = datetime.now().strftime(\"%Y-%m-%d_%H%M%S\")\n",
    "user = sp.current_user()[\"id\"]\n",
    "\n",
    "output_dir = Path(\"exports\")\n",
    "output_dir.mkdir(parents = True, exist_ok = True)\n",
    "\n",
    "tracks.to_csv(output_dir / f\"spotify_{today}_{user}.csv\", index = False)\n",
    "tracks.head()"
   ]
  },
  {
   "cell_type": "code",
   "execution_count": null,
   "id": "54d16700",
   "metadata": {},
   "outputs": [],
   "source": []
  },
  {
   "cell_type": "code",
   "execution_count": 28,
   "id": "3570e1ed",
   "metadata": {},
   "outputs": [],
   "source": [
    "# Conectarse con permiso de escritura de playlists\n",
    "sp = spotipy.Spotify(\n",
    "    auth_manager = spotipy.SpotifyOAuth(\n",
    "        scope = \"playlist-modify-private playlist-modify-public playlist-read-private playlist-read-collaborative user-library-read\",\n",
    "        cache_path=\".cache-playlists\",\n",
    "        show_dialog=True\n",
    "    )\n",
    ")"
   ]
  },
  {
   "cell_type": "code",
   "execution_count": null,
   "id": "145cb455",
   "metadata": {},
   "outputs": [
    {
     "data": {
      "text/plain": [
       "{'collaborative': False,\n",
       " 'description': 'Descripción de la prueba de Spotipy',\n",
       " 'external_urls': {'spotify': 'https://open.spotify.com/playlist/0mSjZmnhxJLUp7wzHTtibc'},\n",
       " 'followers': {'href': None, 'total': 0},\n",
       " 'href': 'https://api.spotify.com/v1/playlists/0mSjZmnhxJLUp7wzHTtibc',\n",
       " 'id': '0mSjZmnhxJLUp7wzHTtibc',\n",
       " 'images': [],\n",
       " 'primary_color': None,\n",
       " 'name': 'prueba_spotipy',\n",
       " 'type': 'playlist',\n",
       " 'uri': 'spotify:playlist:0mSjZmnhxJLUp7wzHTtibc',\n",
       " 'owner': {'href': 'https://api.spotify.com/v1/users/domnes42',\n",
       "  'id': 'domnes42',\n",
       "  'type': 'user',\n",
       "  'uri': 'spotify:user:domnes42',\n",
       "  'display_name': None,\n",
       "  'external_urls': {'spotify': 'https://open.spotify.com/user/domnes42'}},\n",
       " 'public': False,\n",
       " 'snapshot_id': 'AAAAcXA9lmkO+snwFM6xumO3O+3w8fNC',\n",
       " 'tracks': {'limit': 100,\n",
       "  'next': None,\n",
       "  'offset': 0,\n",
       "  'previous': None,\n",
       "  'href': 'https://api.spotify.com/v1/playlists/0mSjZmnhxJLUp7wzHTtibc/tracks',\n",
       "  'total': 0,\n",
       "  'items': []}}"
      ]
     },
     "execution_count": 82,
     "metadata": {},
     "output_type": "execute_result"
    }
   ],
   "source": [
    "# playlist_name,playlist_id,track_title,artist,album,isrc,duration_ms,added_at\n",
    "\n",
    "newPlaylist = sp.user_playlist_create(\n",
    "    user = sp.current_user()[\"id\"],\n",
    "    name = \"prueba_spotipy\",\n",
    "    public = False,\n",
    "    description = \"Descripción de la prueba de Spotipy\"\n",
    ")\n",
    "\n",
    "newPlaylist"
   ]
  },
  {
   "cell_type": "code",
   "execution_count": null,
   "id": "daad33fd",
   "metadata": {},
   "outputs": [
    {
     "data": {
      "text/plain": [
       "{'snapshot_id': 'AAAAAjnXSgqfJkNiL6XVWnUEH/tp9R8R'}"
      ]
     },
     "execution_count": 84,
     "metadata": {},
     "output_type": "execute_result"
    }
   ],
   "source": [
    "tracks_id = [track[\"track\"][\"id\"] for track in tracks[\"items\"]]\n",
    "\n",
    "sp.user_playlist_add_tracks(\n",
    "    user = sp.current_user()[\"id\"],\n",
    "    playlist_id = newPlaylist[\"id\"],\n",
    "    tracks = tracks_id\n",
    ")"
   ]
  },
  {
   "cell_type": "code",
   "execution_count": 33,
   "id": "1a55a33e",
   "metadata": {},
   "outputs": [
    {
     "data": {
      "text/plain": [
       "dict_keys(['album', 'artists', 'available_markets', 'disc_number', 'duration_ms', 'explicit', 'external_ids', 'external_urls', 'href', 'id', 'is_local', 'is_playable', 'name', 'popularity', 'preview_url', 'track_number', 'type', 'uri'])"
      ]
     },
     "execution_count": 33,
     "metadata": {},
     "output_type": "execute_result"
    }
   ],
   "source": [
    "sp.current_user_saved_tracks()[\"items\"][0][\"track\"].keys()"
   ]
  },
  {
   "cell_type": "code",
   "execution_count": 34,
   "id": "1d6752ea",
   "metadata": {},
   "outputs": [],
   "source": [
    "def get_credentials(scope: str) -> spotipy.Spotify:\n",
    "    # Get credentials\n",
    "    # TODO: from .env to actual writing your info. Maybe looking for a .env, if not found, ask for the data.\n",
    "    envPath = \".env\"\n",
    "\n",
    "    Path(envPath).exists()\n",
    "    if not dotenv.load_dotenv(envPath):\n",
    "        raise RuntimeError(f\"Environment Variables not found in {envPath}\")\n",
    "\n",
    "    # Connect with read permissions\n",
    "    sp = spotipy.Spotify(\n",
    "        auth_manager = spotipy.SpotifyOAuth(\n",
    "            scope = scope,\n",
    "            cache_path=\".cache-playlists\",\n",
    "            show_dialog=True\n",
    "        )\n",
    "    )\n",
    "    return sp"
   ]
  },
  {
   "cell_type": "code",
   "execution_count": 36,
   "id": "7d3d9340",
   "metadata": {},
   "outputs": [],
   "source": [
    "sp = spotipy.Spotify(\n",
    "        auth_manager = spotipy.SpotifyOAuth(\n",
    "            cache_path=\".cache-playlists\",\n",
    "            show_dialog=True\n",
    "        )\n",
    "    )"
   ]
  },
  {
   "cell_type": "code",
   "execution_count": 37,
   "id": "024760cd",
   "metadata": {},
   "outputs": [
    {
     "name": "stdout",
     "output_type": "stream",
     "text": [
      "playlist-modify-private playlist-modify-public playlist-read-private playlist-read-collaborative user-library-read\n"
     ]
    }
   ],
   "source": [
    "print(sp.auth_manager.get_cached_token()[\"scope\"])  # must include playlist-modify-private"
   ]
  },
  {
   "cell_type": "code",
   "execution_count": 38,
   "id": "773616a2",
   "metadata": {},
   "outputs": [
    {
     "name": "stdout",
     "output_type": "stream",
     "text": [
      "public? True\n"
     ]
    }
   ],
   "source": [
    "from datetime import datetime\n",
    "\n",
    "me = sp.current_user()\n",
    "pl = sp.user_playlist_create(\n",
    "    user=me[\"id\"],\n",
    "    name=\"aa\",\n",
    "    public=False,\n",
    "    description=f\"Generated from CSV Backup. Upload: {datetime.now().strftime('%d-%m-%Y, %H:%M:%S')}\"\n",
    ")\n",
    "pl_full = sp.playlist(pl[\"id\"], fields=\"id,name,public,owner(id)\")\n",
    "print(\"public?\", pl_full[\"public\"])  # expect False\n"
   ]
  },
  {
   "cell_type": "code",
   "execution_count": 40,
   "id": "723e4435",
   "metadata": {},
   "outputs": [],
   "source": [
    "sp.user_playlist_change_details(me[\"id\"], pl[\"id\"], public=False)"
   ]
  },
  {
   "cell_type": "code",
   "execution_count": 41,
   "id": "61e3a4f1",
   "metadata": {},
   "outputs": [
    {
     "name": "stdout",
     "output_type": "stream",
     "text": [
      "owner: domnes42 public: True\n"
     ]
    }
   ],
   "source": [
    "me = sp.current_user()\n",
    "pl = sp.user_playlist_create(\n",
    "    me[\"id\"],\n",
    "    \"playlist_name\",\n",
    "    public=False,\n",
    "    description=\"…\"\n",
    ")\n",
    "sp.user_playlist_change_details(me[\"id\"], pl[\"id\"], public=False)\n",
    "\n",
    "pl_full = sp.playlist(pl[\"id\"], fields=\"id,name,public,owner(id)\")\n",
    "print(\"owner:\", pl_full[\"owner\"][\"id\"], \"public:\", pl_full[\"public\"])\n"
   ]
  }
 ],
 "metadata": {
  "kernelspec": {
   "display_name": "playlists",
   "language": "python",
   "name": "python3"
  },
  "language_info": {
   "codemirror_mode": {
    "name": "ipython",
    "version": 3
   },
   "file_extension": ".py",
   "mimetype": "text/x-python",
   "name": "python",
   "nbconvert_exporter": "python",
   "pygments_lexer": "ipython3",
   "version": "3.13.5"
  }
 },
 "nbformat": 4,
 "nbformat_minor": 5
}
