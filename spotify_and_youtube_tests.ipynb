{
 "cells": [
  {
   "cell_type": "code",
   "execution_count": 1,
   "id": "9d0ba90a",
   "metadata": {},
   "outputs": [],
   "source": [
    "import requests as req\n",
    "from bs4 import BeautifulSoup\n",
    "import pandas as pd\n",
    "import numpy as np\n",
    "import re\n",
    "import time"
   ]
  },
  {
   "cell_type": "code",
   "execution_count": 2,
   "id": "e4bb6472",
   "metadata": {},
   "outputs": [],
   "source": [
    "# Fetch page\n",
    "url_origin = 'https://music.youtube.com/playlist?list=PLf5-r0VwWtlFOWWMeEkifjZUiIilLjhnV'\n",
    "response = req.get(url=url_origin)\n",
    "\n",
    "# Parse the HTML content\n",
    "soup = BeautifulSoup(response.text, features='lxml')\n",
    "star_items = soup.find_all(attrs={'class':'style-scope ytmusic-playlist-shelf-renderer'}) # List of <\\> with class='index-item'"
   ]
  },
  {
   "cell_type": "code",
   "execution_count": 5,
   "id": "0cf32ab9",
   "metadata": {},
   "outputs": [
    {
     "data": {
      "text/plain": [
       "<!DOCTYPE html>\n",
       "<html dir=\"ltr\" lang=\"es-ES\"><head><title>Tu navegador está obsoleto. Actualízalo a una versión más reciente.</title><meta content=\"width=device-width, initial-scale=1.0, maximum-scale=1.0, user-scalable=no\" name=\"viewport\"/><link href=\"https://fonts.googleapis.com/css?family=Roboto:500\" nonce=\"WgTs9wfc_TTnjjB4aGMDDw\" rel=\"stylesheet\"/><link href=\"https://music.youtube.com/favicon.ico\" rel=\"icon\" sizes=\"16x16\" type=\"image/x-icon\"/><link href=\"https://music.youtube.com/img/favicon_32.png\" rel=\"icon\" sizes=\"32x32\" type=\"image/png\"/><link href=\"https://music.youtube.com/img/favicon_48.png\" rel=\"icon\" sizes=\"48x48\" type=\"image/png\"/><link href=\"https://music.youtube.com/img/favicon_96.png\" rel=\"icon\" sizes=\"96x96\" type=\"image/png\"/><link href=\"https://music.youtube.com/img/favicon_144.png\" rel=\"icon\" sizes=\"144x144\" type=\"image/png\"/><title>Coche cochecito</title><link href=\"https://music.youtube.com/playlist?list=PLf5-r0VwWtlFOWWMeEkifjZUiIilLjhnV\" rel=\"canonical\"/><meta content=\"YouTube Music\" property=\"og:site_name\"/><meta content=\"https://music.youtube.com/playlist?list=PLf5-r0VwWtlFOWWMeEkifjZUiIilLjhnV\" property=\"og:url\"/><meta content=\"Coche cochecito\" property=\"og:title\"/><meta content=\"\" property=\"og:description\"/><meta content=\"https://yt3.googleusercontent.com/Ui4E8FgGKZOgna83RlkSj09-Qj9SVnXiH93ynSbiTqbt5IHNBnBScl90brwnhw5K3ThPRkkCBtw=s1200\" property=\"og:image\"/><meta content=\"1200\" property=\"og:image:width\"/><meta content=\"1200\" property=\"og:image:height\"/><meta content=\"app-id=1017492454, app-argument=https://music.youtube.com/playlist?list=PLf5-r0VwWtlFOWWMeEkifjZUiIilLjhnV\" name=\"apple-itunes-app\"/><meta content=\"1017492454\" property=\"al:ios:app_store_id\"/><meta content=\"YouTube Music\" property=\"al:ios:app_name\"/><meta content=\"vnd.youtube.music://music.youtube.com/playlist?list=PLf5-r0VwWtlFOWWMeEkifjZUiIilLjhnV&amp;feature=applinks\" property=\"al:ios:url\"/><meta content=\"vnd.youtube.music://music.youtube.com/playlist?list=PLf5-r0VwWtlFOWWMeEkifjZUiIilLjhnV&amp;feature=applinks\" property=\"al:android:url\"/><meta content=\"YouTube Music\" property=\"al:android:app_name\"/><meta content=\"com.google.android.apps.youtube.music\" property=\"al:android:package\"/><meta content=\"https://music.youtube.com/playlist?list=PLf5-r0VwWtlFOWWMeEkifjZUiIilLjhnV&amp;feature=applinks\" property=\"al:web:url\"/><meta content=\"true\" property=\"al:web:should_fallback\"/><meta content=\"music.playlist\" property=\"og:type\"/><meta content=\"87741124305\" property=\"fb:app_id\"/><meta content=\"18+\" property=\"og:restrictions:age\"/><meta content=\"summary_large_image\" name=\"twitter:card\"/><meta content=\"@youtubemusic\" name=\"twitter:site\"/><meta content=\"https://music.youtube.com/playlist?list=PLf5-r0VwWtlFOWWMeEkifjZUiIilLjhnV\" name=\"twitter:url\"/><meta content=\"Coche cochecito\" name=\"twitter:title\"/><meta content=\"\" name=\"twitter:description\"/><meta content=\"https://yt3.googleusercontent.com/Ui4E8FgGKZOgna83RlkSj09-Qj9SVnXiH93ynSbiTqbt5IHNBnBScl90brwnhw5K3ThPRkkCBtw=s1200\" name=\"twitter:image\"/><meta content=\"YouTube Music\" name=\"twitter:app:name:iphone\"/><meta content=\"1017492454\" name=\"twitter:app:id:iphone\"/><meta content=\"vnd.youtube.music://music.youtube.com/playlist?list=PLf5-r0VwWtlFOWWMeEkifjZUiIilLjhnV&amp;feature=twitter-deep-link\" name=\"twitter:app:url:iphone\"/><meta content=\"YouTube Music\" name=\"twitter:app:name:ipad\"/><meta content=\"1017492454\" name=\"twitter:app:id:ipad\"/><meta content=\"vnd.youtube.music://music.youtube.com/playlist?list=PLf5-r0VwWtlFOWWMeEkifjZUiIilLjhnV&amp;feature=twitter-deep-link\" name=\"twitter:app:url:ipad\"/><meta content=\"YouTube Music\" name=\"twitter:app:name:googleplay\"/><meta content=\"com.google.android.apps.youtube.music\" name=\"twitter:app:id:googleplay\"/><meta content=\"vnd.youtube.music://music.youtube.com/playlist?list=PLf5-r0VwWtlFOWWMeEkifjZUiIilLjhnV&amp;feature=twitter-deep-link\" name=\"twitter:app:url:googleplay\"/><meta content=\"Coche cochecito\" name=\"title\"/><meta content=\"Nuevo servicio de música con álbumes oficiales, singles, vídeos, remixes, actuaciones en directo y mucho más, disponible en Android, iOS y ordenadores. Aquí encontrarás todo.\" name=\"description\"/><meta content=\"music,youtube,youtube music,music streaming\" name=\"keywords\"/><style nonce=\"WgTs9wfc_TTnjjB4aGMDDw\">body {display: flex; height: 100vh; width: 100vw; align-items: center; justify-content: center; margin: 0; background-color: #131313; overflow: hidden; font-family: 'Roboto', arial, sans-serif}.content {display: flex; flex-direction: column; align-items: center;}.logo {width: 160px;}.message {max-width: 400px; box-sizing: border-box; padding: 32px 24px; font-size: 18px; line-height: 22px; font-weight: 500; text-align: center; color: rgba(255, 255, 255, 0.8);}.cta-wrapper {display: flex; justify-content: center;}.cta {display: flex; align-items: center; justify-content: center; background-color: #fff; font-size: 14px; font-weight: 500; text-decoration: none; text-transform: uppercase; color: #131313; height: 36px; min-width: 88px; border-radius: 2px; padding: 0 24px;}</style></head><body><div class=\"content\"><img alt=\"\" class=\"logo\" src=\"//music.youtube.com/img/on_platform_logo_dark.svg\"/><div class=\"message\">YouTube Music no está optimizado para tu navegador. Comprueba si puedes actualizarlo o prueba con Google Chrome.</div><div class=\"cta-wrapper\"><a class=\"cta\" href=\"http://www.google.com/chrome/index.html\">Descargar Chrome</a></div></div></body></html>"
      ]
     },
     "execution_count": 5,
     "metadata": {},
     "output_type": "execute_result"
    }
   ],
   "source": [
    "soup"
   ]
  },
  {
   "cell_type": "code",
   "execution_count": null,
   "id": "aba2ec49",
   "metadata": {},
   "outputs": [],
   "source": []
  },
  {
   "cell_type": "code",
   "execution_count": 6,
   "id": "1ce67b53",
   "metadata": {},
   "outputs": [],
   "source": [
    "from selenium import webdriver\n",
    "from selenium.webdriver.common.by import By\n",
    "from selenium.webdriver.support.ui import WebDriverWait\n",
    "from selenium.webdriver.support import expected_conditions as EC\n",
    "\n",
    "# Random sleep time\n",
    "import time\n",
    "from random import uniform"
   ]
  },
  {
   "cell_type": "code",
   "execution_count": 20,
   "id": "2f0d9fc4",
   "metadata": {},
   "outputs": [],
   "source": [
    "# --- Set Up ---\n",
    "# Start Driver\n",
    "options = webdriver.ChromeOptions() \n",
    "driver = webdriver.Chrome(options=options)\n",
    "\n",
    "# Access Reference Page\n",
    "url = 'https://music.youtube.com/playlist?list=PLf5-r0VwWtlFOWWMeEkifjZUiIilLjhnV'\n",
    "driver.get(url)\n"
   ]
  },
  {
   "cell_type": "code",
   "execution_count": null,
   "id": "ecd02031",
   "metadata": {},
   "outputs": [
    {
     "data": {
      "text/plain": [
       "<selenium.webdriver.remote.webelement.WebElement (session=\"1aff6a7ffa24150fa5301351e5bd57bf\", element=\"f.D96516F3F118BBBC935E55FAA584899F.d.744074B720478D4326162BA94C57E21A.e.959\")>"
      ]
     },
     "execution_count": 27,
     "metadata": {},
     "output_type": "execute_result"
    }
   ],
   "source": [
    "# Click reject coockies\n",
    "xpath = '//span[contains(@class,\"VfPpkd-vQzf8d\") and normalize-space(text())=\"Reject all\"]'\n",
    "reject_cookies = driver.find_element(By.XPATH, xpath)\n",
    "reject_cookies"
   ]
  },
  {
   "cell_type": "code",
   "execution_count": 28,
   "id": "be9df7ac",
   "metadata": {},
   "outputs": [],
   "source": [
    "reject_cookies.click()"
   ]
  },
  {
   "cell_type": "code",
   "execution_count": 31,
   "id": "c7df16bf",
   "metadata": {},
   "outputs": [
    {
     "data": {
      "text/plain": [
       "<selenium.webdriver.remote.webelement.WebElement (session=\"1aff6a7ffa24150fa5301351e5bd57bf\", element=\"f.D96516F3F118BBBC935E55FAA584899F.d.CCD46F8183D50BBC559615369DB50E28.e.1666\")>"
      ]
     },
     "execution_count": 31,
     "metadata": {},
     "output_type": "execute_result"
    }
   ],
   "source": [
    "# Get list of songs\n",
    "xpath = '//div[contains(@id,\"contents\")]'\n",
    "parent = driver.find_element(By.XPATH, xpath)\n",
    "parent"
   ]
  },
  {
   "cell_type": "code",
   "execution_count": 42,
   "id": "b632fc04",
   "metadata": {},
   "outputs": [
    {
     "data": {
      "text/plain": [
       "97"
      ]
     },
     "execution_count": 42,
     "metadata": {},
     "output_type": "execute_result"
    }
   ],
   "source": [
    "children = parent.find_elements(By.XPATH, \".//ytmusic-responsive-list-item-renderer\")\n",
    "len(children)"
   ]
  },
  {
   "cell_type": "code",
   "execution_count": null,
   "id": "a76cf6d4",
   "metadata": {},
   "outputs": [],
   "source": [
    "\n",
    "max_page = int(items.get_attribute('max'))\n",
    "\n",
    "# List of pages with comments\n",
    "pages = [num_page for num_page in range(max_page-1, 1)]\n",
    "for idx in range(1, max_page):\n",
    "    pages.append(f'https://forums.warframe.com/topic/1453670-dev-workshop-isleweaver-valkyr-rework/page/{idx}/#comments')\n",
    "\n",
    "# Stop set-up driver\n",
    "driver.quit()\n"
   ]
  }
 ],
 "metadata": {
  "kernelspec": {
   "display_name": "playlists",
   "language": "python",
   "name": "python3"
  },
  "language_info": {
   "codemirror_mode": {
    "name": "ipython",
    "version": 3
   },
   "file_extension": ".py",
   "mimetype": "text/x-python",
   "name": "python",
   "nbconvert_exporter": "python",
   "pygments_lexer": "ipython3",
   "version": "3.13.5"
  }
 },
 "nbformat": 4,
 "nbformat_minor": 5
}
