{
 "cells": [
  {
   "cell_type": "code",
   "execution_count": null,
   "id": "d2b290c3",
   "metadata": {},
   "outputs": [],
   "source": [
    "import dotenv\n",
    "from pathlib import Path\n",
    "import pandas as pd\n",
    "from datetime import datetime\n",
    "import spotipy\n",
    "from spotipy.oauth2 import SpotifyClientCredentials"
   ]
  },
  {
   "cell_type": "code",
   "execution_count": null,
   "id": "38c367ac",
   "metadata": {},
   "outputs": [],
   "source": [
    "envPath = \".env\"\n",
    "\n",
    "Path(envPath).exists()\n",
    "if not dotenv.load_dotenv(envPath):\n",
    "    raise RuntimeError(f\"Environment Variables not found in {envPath}\")"
   ]
  },
  {
   "cell_type": "code",
   "execution_count": null,
   "id": "8c215476",
   "metadata": {},
   "outputs": [],
   "source": [
    "# Conectarse con permisos de lectura\n",
    "auth_manager = SpotifyClientCredentials()\n",
    "sp = spotipy.Spotify(auth_manager = auth_manager)"
   ]
  },
  {
   "cell_type": "code",
   "execution_count": null,
   "id": "2abab3b9",
   "metadata": {},
   "outputs": [
    {
     "name": "stdout",
     "output_type": "stream",
     "text": [
      "   1 spotify:playlist:0m5m7XBftn0kbR8nJTy81z Bandas Sonoras\n",
      "   2 spotify:playlist:1tkHhAAq6yvcwTtxEJlw8E Gorillaz\n",
      "   3 spotify:playlist:7BSqrCtujKvQh9KPKk0Gqc Canciones chulindangas que escuchaba hace unos años\n",
      "   4 spotify:playlist:03fpAdWRT8FuAXpJ4Zgmqr Pa la dusha (cantables)\n",
      "   5 spotify:playlist:7tWw42qiQ5HONQFGXxx5o5 Chilling this much feels illegal\n",
      "   6 spotify:playlist:3sFQurSTJr6Ow1zSuIsEOP Watch later\n",
      "   7 spotify:playlist:3MTrGsLcMu55IroZRVrBwn Pa la dusha\n",
      "   8 spotify:playlist:6JZjlU7AQUOfRx4flxhK71 Coche cochecito\n"
     ]
    }
   ],
   "source": [
    "# playlists = sp.user_playlists(user='spotify')\n",
    "playlists = sp.user_playlists(user='domnes42')\n",
    "while playlists:\n",
    "    for i, playlist in enumerate(playlists['items']):\n",
    "        print(f\"{i + 1 + playlists['offset']:4d} {playlist['uri']} {playlist['name']}\")\n",
    "    if playlists['next']:\n",
    "        playlists = sp.next(playlists)\n",
    "    else:\n",
    "        playlists = None"
   ]
  },
  {
   "cell_type": "code",
   "execution_count": null,
   "id": "ebb6109c",
   "metadata": {},
   "outputs": [],
   "source": [
    "def get_playlist_tracks(sp: spotipy.Spotify, playlist_url: str) -> pd.DataFrame:\n",
    "    \"\"\"Extract tracks from a url (only read permissions needed)\"\"\"\n",
    "    playlist_name = sp.playlist(playlist_id = playlist_url, fields = \"name\")[\"name\"]\n",
    "\n",
    "    # Create a list accounting for the offset\n",
    "    rows, offset = [], 0\n",
    "    while True:\n",
    "            \n",
    "        raw_tracks  =   sp.playlist_tracks(\n",
    "            playlist_id =   playlist_url,\n",
    "            limit       =   100,\n",
    "            offset      =   offset,\n",
    "            fields      =   \"items(added_at,track(id,name,artists(name),album(name),duration_ms,external_ids(isrc))),next\"\n",
    "        )\n",
    "\n",
    "        for row in raw_tracks[\"items\"]:\n",
    "            date = str(row[\"added_at\"])\n",
    "            info = row[\"track\"]\n",
    "            track_info = {\n",
    "                \"origin\":           \"spotify\",\n",
    "                \"playlist_name\":    playlist_name,\n",
    "                \"playlist_url\":     playlist_url,\n",
    "                \"track_name\":       info[\"name\"],\n",
    "                \"track_id\":         info[\"id\"],\n",
    "                \"artist\":           \", \".join([artist[\"name\"] for artist in info[\"artists\"]]),\n",
    "                \"album\":            info[\"album\"][\"name\"],\n",
    "                \"duration_ms\":      info[\"duration_ms\"],\n",
    "                \"added_at\":         date\n",
    "            }\n",
    "\n",
    "            rows.append(track_info)\n",
    "        \n",
    "        if not raw_tracks[\"next\"]: break # exit if there is no more tracks to add\n",
    "        offset += 100\n",
    "        \n",
    "    return pd.DataFrame(rows)"
   ]
  },
  {
   "cell_type": "code",
   "execution_count": 160,
   "id": "b34c1027",
   "metadata": {},
   "outputs": [
    {
     "data": {
      "text/html": [
       "<div>\n",
       "<style scoped>\n",
       "    .dataframe tbody tr th:only-of-type {\n",
       "        vertical-align: middle;\n",
       "    }\n",
       "\n",
       "    .dataframe tbody tr th {\n",
       "        vertical-align: top;\n",
       "    }\n",
       "\n",
       "    .dataframe thead th {\n",
       "        text-align: right;\n",
       "    }\n",
       "</style>\n",
       "<table border=\"1\" class=\"dataframe\">\n",
       "  <thead>\n",
       "    <tr style=\"text-align: right;\">\n",
       "      <th></th>\n",
       "      <th>origin</th>\n",
       "      <th>playlist_name</th>\n",
       "      <th>playlist_url</th>\n",
       "      <th>track_name</th>\n",
       "      <th>track_id</th>\n",
       "      <th>artist</th>\n",
       "      <th>album</th>\n",
       "      <th>duration_ms</th>\n",
       "      <th>added_at</th>\n",
       "    </tr>\n",
       "  </thead>\n",
       "  <tbody>\n",
       "    <tr>\n",
       "      <th>0</th>\n",
       "      <td>spotify</td>\n",
       "      <td>prueba_spotipy</td>\n",
       "      <td>https://open.spotify.com/playlist/0mSjZmnhxJLU...</td>\n",
       "      <td>Amanecer</td>\n",
       "      <td>5HHvMVnt9Pg7RLanL0IaT3</td>\n",
       "      <td>Saurom</td>\n",
       "      <td>Música</td>\n",
       "      <td>341720</td>\n",
       "      <td>2025-08-26T08:53:34Z</td>\n",
       "    </tr>\n",
       "    <tr>\n",
       "      <th>1</th>\n",
       "      <td>spotify</td>\n",
       "      <td>prueba_spotipy</td>\n",
       "      <td>https://open.spotify.com/playlist/0mSjZmnhxJLU...</td>\n",
       "      <td>Alumina</td>\n",
       "      <td>34qsiP8jDp3GNIqACvmNlQ</td>\n",
       "      <td>NIGHTMARE</td>\n",
       "      <td>the WORLD Ruler</td>\n",
       "      <td>305840</td>\n",
       "      <td>2025-08-26T08:53:34Z</td>\n",
       "    </tr>\n",
       "    <tr>\n",
       "      <th>2</th>\n",
       "      <td>spotify</td>\n",
       "      <td>prueba_spotipy</td>\n",
       "      <td>https://open.spotify.com/playlist/0mSjZmnhxJLU...</td>\n",
       "      <td>Uragirimonono Requiem - Giorno Ver.</td>\n",
       "      <td>3q7hI6kxCAbj0yDTR4asML</td>\n",
       "      <td>Yugo Kanno</td>\n",
       "      <td>JOJO'S BIZARRE ADVENTURE -Golden Wind O.S.T vo...</td>\n",
       "      <td>219187</td>\n",
       "      <td>2025-08-26T08:53:34Z</td>\n",
       "    </tr>\n",
       "    <tr>\n",
       "      <th>3</th>\n",
       "      <td>spotify</td>\n",
       "      <td>prueba_spotipy</td>\n",
       "      <td>https://open.spotify.com/playlist/0mSjZmnhxJLU...</td>\n",
       "      <td>Fighting Gold</td>\n",
       "      <td>5ycVJufpq4ad1mqA5JfNQS</td>\n",
       "      <td>Coda</td>\n",
       "      <td>Fighting Gold</td>\n",
       "      <td>253185</td>\n",
       "      <td>2025-08-26T08:53:34Z</td>\n",
       "    </tr>\n",
       "    <tr>\n",
       "      <th>4</th>\n",
       "      <td>spotify</td>\n",
       "      <td>prueba_spotipy</td>\n",
       "      <td>https://open.spotify.com/playlist/0mSjZmnhxJLU...</td>\n",
       "      <td>Hope of Morning</td>\n",
       "      <td>6REggZ9bXP4wLfnQPgE69z</td>\n",
       "      <td>Icon For Hire</td>\n",
       "      <td>Icon for Hire</td>\n",
       "      <td>229604</td>\n",
       "      <td>2025-08-26T08:53:34Z</td>\n",
       "    </tr>\n",
       "  </tbody>\n",
       "</table>\n",
       "</div>"
      ],
      "text/plain": [
       "    origin   playlist_name                                       playlist_url  \\\n",
       "0  spotify  prueba_spotipy  https://open.spotify.com/playlist/0mSjZmnhxJLU...   \n",
       "1  spotify  prueba_spotipy  https://open.spotify.com/playlist/0mSjZmnhxJLU...   \n",
       "2  spotify  prueba_spotipy  https://open.spotify.com/playlist/0mSjZmnhxJLU...   \n",
       "3  spotify  prueba_spotipy  https://open.spotify.com/playlist/0mSjZmnhxJLU...   \n",
       "4  spotify  prueba_spotipy  https://open.spotify.com/playlist/0mSjZmnhxJLU...   \n",
       "\n",
       "                            track_name                track_id         artist  \\\n",
       "0                             Amanecer  5HHvMVnt9Pg7RLanL0IaT3         Saurom   \n",
       "1                              Alumina  34qsiP8jDp3GNIqACvmNlQ      NIGHTMARE   \n",
       "2  Uragirimonono Requiem - Giorno Ver.  3q7hI6kxCAbj0yDTR4asML     Yugo Kanno   \n",
       "3                        Fighting Gold  5ycVJufpq4ad1mqA5JfNQS           Coda   \n",
       "4                      Hope of Morning  6REggZ9bXP4wLfnQPgE69z  Icon For Hire   \n",
       "\n",
       "                                               album  duration_ms  \\\n",
       "0                                             Música       341720   \n",
       "1                                    the WORLD Ruler       305840   \n",
       "2  JOJO'S BIZARRE ADVENTURE -Golden Wind O.S.T vo...       219187   \n",
       "3                                      Fighting Gold       253185   \n",
       "4                                      Icon for Hire       229604   \n",
       "\n",
       "               added_at  \n",
       "0  2025-08-26T08:53:34Z  \n",
       "1  2025-08-26T08:53:34Z  \n",
       "2  2025-08-26T08:53:34Z  \n",
       "3  2025-08-26T08:53:34Z  \n",
       "4  2025-08-26T08:53:34Z  "
      ]
     },
     "execution_count": 160,
     "metadata": {},
     "output_type": "execute_result"
    }
   ],
   "source": [
    "tracks = get_playlist_tracks(sp, r\"https://open.spotify.com/playlist/0mSjZmnhxJLUp7wzHTtibc\")\n",
    "today = datetime.now().strftime(\"%Y-%m-%d_%H%M%S\")\n",
    "user = sp.current_user()[\"id\"]\n",
    "\n",
    "output_dir = Path(\"exports\")\n",
    "output_dir.mkdir(parents = True, exist_ok = True)\n",
    "\n",
    "tracks.to_csv(output_dir / f\"spotify_{today}_{user}.csv\", index = False)\n",
    "tracks.head()"
   ]
  },
  {
   "cell_type": "code",
   "execution_count": null,
   "id": "54d16700",
   "metadata": {},
   "outputs": [],
   "source": []
  },
  {
   "cell_type": "code",
   "execution_count": null,
   "id": "3570e1ed",
   "metadata": {},
   "outputs": [],
   "source": [
    "# Conectarse con permiso de escritura de playlists\n",
    "sp = spotipy.Spotify(\n",
    "    auth_manager = spotipy.SpotifyOAuth(\n",
    "        scope = \"playlist-modify-private playlist-modify-public\",\n",
    "        cache_path=\".cache-playlists\",\n",
    "        show_dialog=True\n",
    "    )\n",
    ")"
   ]
  },
  {
   "cell_type": "code",
   "execution_count": null,
   "id": "145cb455",
   "metadata": {},
   "outputs": [
    {
     "data": {
      "text/plain": [
       "{'collaborative': False,\n",
       " 'description': 'Descripción de la prueba de Spotipy',\n",
       " 'external_urls': {'spotify': 'https://open.spotify.com/playlist/0mSjZmnhxJLUp7wzHTtibc'},\n",
       " 'followers': {'href': None, 'total': 0},\n",
       " 'href': 'https://api.spotify.com/v1/playlists/0mSjZmnhxJLUp7wzHTtibc',\n",
       " 'id': '0mSjZmnhxJLUp7wzHTtibc',\n",
       " 'images': [],\n",
       " 'primary_color': None,\n",
       " 'name': 'prueba_spotipy',\n",
       " 'type': 'playlist',\n",
       " 'uri': 'spotify:playlist:0mSjZmnhxJLUp7wzHTtibc',\n",
       " 'owner': {'href': 'https://api.spotify.com/v1/users/domnes42',\n",
       "  'id': 'domnes42',\n",
       "  'type': 'user',\n",
       "  'uri': 'spotify:user:domnes42',\n",
       "  'display_name': None,\n",
       "  'external_urls': {'spotify': 'https://open.spotify.com/user/domnes42'}},\n",
       " 'public': False,\n",
       " 'snapshot_id': 'AAAAcXA9lmkO+snwFM6xumO3O+3w8fNC',\n",
       " 'tracks': {'limit': 100,\n",
       "  'next': None,\n",
       "  'offset': 0,\n",
       "  'previous': None,\n",
       "  'href': 'https://api.spotify.com/v1/playlists/0mSjZmnhxJLUp7wzHTtibc/tracks',\n",
       "  'total': 0,\n",
       "  'items': []}}"
      ]
     },
     "execution_count": 82,
     "metadata": {},
     "output_type": "execute_result"
    }
   ],
   "source": [
    "# playlist_name,playlist_id,track_title,artist,album,isrc,duration_ms,added_at\n",
    "\n",
    "newPlaylist = sp.user_playlist_create(\n",
    "    user = sp.current_user()[\"id\"],\n",
    "    name = \"prueba_spotipy\",\n",
    "    public = False,\n",
    "    description = \"Descripción de la prueba de Spotipy\"\n",
    ")\n",
    "\n",
    "newPlaylist"
   ]
  },
  {
   "cell_type": "code",
   "execution_count": 84,
   "id": "daad33fd",
   "metadata": {},
   "outputs": [
    {
     "data": {
      "text/plain": [
       "{'snapshot_id': 'AAAAAjnXSgqfJkNiL6XVWnUEH/tp9R8R'}"
      ]
     },
     "execution_count": 84,
     "metadata": {},
     "output_type": "execute_result"
    }
   ],
   "source": [
    "tracks_id = [track[\"track\"][\"id\"] for track in tracks[\"items\"]]\n",
    "\n",
    "sp.user_playlist_add_tracks(\n",
    "    user = sp.current_user()[\"id\"],\n",
    "    playlist_id = newPlaylist[\"id\"],\n",
    "    tracks = tracks_id\n",
    ")"
   ]
  },
  {
   "cell_type": "code",
   "execution_count": null,
   "id": "1d6752ea",
   "metadata": {},
   "outputs": [],
   "source": []
  }
 ],
 "metadata": {
  "kernelspec": {
   "display_name": "playlists",
   "language": "python",
   "name": "python3"
  },
  "language_info": {
   "codemirror_mode": {
    "name": "ipython",
    "version": 3
   },
   "file_extension": ".py",
   "mimetype": "text/x-python",
   "name": "python",
   "nbconvert_exporter": "python",
   "pygments_lexer": "ipython3",
   "version": "3.13.5"
  }
 },
 "nbformat": 4,
 "nbformat_minor": 5
}
